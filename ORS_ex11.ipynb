{
 "cells": [
  {
   "cell_type": "code",
   "execution_count": 8,
   "id": "12ac8c8c",
   "metadata": {
    "scrolled": true
   },
   "outputs": [],
   "source": [
    "import pandas as pd\n",
    "import geopandas as gpd\n",
    "import leafmap\n",
    "import openrouteservice\n",
    "from openrouteservice import convert\n",
    "import json\n",
    "import os.path\n",
    "from os import path\n",
    "\n",
    "def getroute(lon1, lat1, lon2, lat2):\n",
    "    coords = ((lon1, lat1), (lon2, lat2))\n",
    "    params_route = {'profile': 'foot-walking','coordinates' : coords,\n",
    "               \n",
    "               'geometry': 'true',\n",
    "               'format': 'geojson',\n",
    "               \n",
    "               }\n",
    "    geometry = client.directions(coordinates=coords,profile='driving-car',format='geojson')\n",
    "    #print(geometry)\n",
    "    return geometry\n",
    "\n",
    "# Creating SQLAlchemy's engine to use\n",
    "client = openrouteservice.Client(key='5b3ce3597851110001cf62488f9235173eab4627b5f0ba01e928ef81')\n",
    "\n",
    "fname= os.path.join(\"c:\\python\", \"BFT.xlsx\")\n",
    "#fname= os.path.join(\"c:\\python\", \"Arglite.xlsx\")\n",
    "data =  pd.read_excel(fname,dtype={'Comments': str},na_values=[''])\n",
    "data['color_column']='red'\n",
    "coordall=[data[\"Longitude\"],data[\"Latitude\"]]\n",
    "m = leafmap.Map(center=(50,3), layers_control=True,color_column=False,zoom=8)\n",
    "m.add_points_from_xy(data, x=\"Longitude\", y=\"Latitude\",layer_name='BattlefieldTour',\n",
    "    icon_names=[ 'leaf',],color_column='color_column')\n",
    "\n"
   ]
  },
  {
   "cell_type": "code",
   "execution_count": 9,
   "id": "ea975da2",
   "metadata": {
    "scrolled": true
   },
   "outputs": [],
   "source": [
    "#coords = ((8.34234,48.23424),(8.34423,48.26424), (8.34523,48.24424), (8.41423,48.21424))\n",
    "allcoord=[]\n",
    "coord1=[]\n",
    "for i, row in data.iterrows():\n",
    "    coord1=[data[\"Longitude\"][i],data[\"Latitude\"][i]]\n",
    "    allcoord.append(coord1)\n",
    "#print(allcoord)\n",
    "coord2=tuple(allcoord)\n",
    "#print(coord2)\n",
    "geometry = client.directions(coordinates=coord2)['routes'][0]['geometry']\n",
    "decoded = convert.decode_polyline(geometry)\n",
    "m.add_geojson(decoded,layer_name=\"Route\")  \n",
    "            #print(myroutes)\n",
    "fn='BattleTour.json' \n",
    "with open(fn, 'w') as outfile:\n",
    "    json.dump(decoded, outfile)\n",
    "   "
   ]
  },
  {
   "cell_type": "code",
   "execution_count": 10,
   "id": "b15a6012",
   "metadata": {},
   "outputs": [
    {
     "data": {
      "application/vnd.jupyter.widget-view+json": {
       "model_id": "52eb570251d24757bcb9dbb5c6425473",
       "version_major": 2,
       "version_minor": 0
      },
      "text/plain": [
       "Map(center=[50, 3], controls=(ZoomControl(options=['position', 'zoom_in_text', 'zoom_in_title', 'zoom_out_text…"
      ]
     },
     "metadata": {},
     "output_type": "display_data"
    }
   ],
   "source": [
    "with open('Argylls.json') as json_file:\n",
    "    decode1 = json.load(json_file)\n",
    "    #print(data)\n",
    "with open('BattleTour.json') as json_file:\n",
    "    decode2 = json.load(json_file)    \n",
    "m.add_geojson(decode1,layer_name=\"Route1\",style = {\n",
    "    \"stroke\": True,\n",
    "    \"color\": \"blue\",\n",
    "    \"weight\": 2,\n",
    "    \"opacity\": 1,\n",
    "    \"fill\": False,\n",
    "    \"fillColor\": \"#0000ff\",\n",
    "    \"fillOpacity\": 0.1,\n",
    "})  \n",
    "\n",
    "\n",
    "'''\n",
    "style = {\n",
    "    \"stroke\": True,\n",
    "    \"color\": \"red\",\n",
    "    \"weight\": 2,\n",
    "    \"opacity\": 1,\n",
    "    \"fill\": False,\n",
    "    \"fillColor\": \"#0000ff\",\n",
    "    \"fillOpacity\": 0.1,\n",
    "}\n",
    "'''\n",
    "m.add_geojson(decode2,layer_name=\"Route2\",style = {\n",
    "    \"stroke\": True,\n",
    "    \"color\": \"red\",\n",
    "    \"weight\": 2,\n",
    "    \"opacity\": 1,\n",
    "    \"fill\": False,\n",
    "    \"fillColor\": \"#0000ff\",\n",
    "    \"fillOpacity\": 0.1,\n",
    "})  \n",
    "m       "
   ]
  },
  {
   "cell_type": "code",
   "execution_count": null,
   "id": "2bedcf92",
   "metadata": {},
   "outputs": [],
   "source": []
  }
 ],
 "metadata": {
  "kernelspec": {
   "display_name": "Python 3 (ipykernel)",
   "language": "python",
   "name": "python3"
  },
  "language_info": {
   "codemirror_mode": {
    "name": "ipython",
    "version": 3
   },
   "file_extension": ".py",
   "mimetype": "text/x-python",
   "name": "python",
   "nbconvert_exporter": "python",
   "pygments_lexer": "ipython3",
   "version": "3.9.12"
  }
 },
 "nbformat": 4,
 "nbformat_minor": 5
}
